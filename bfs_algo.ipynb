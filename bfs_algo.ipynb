{
 "cells": [
  {
   "cell_type": "markdown",
   "id": "60e6de12",
   "metadata": {},
   "source": [
    "## bfs"
   ]
  },
  {
   "cell_type": "code",
   "execution_count": 57,
   "id": "62ed79a4",
   "metadata": {},
   "outputs": [],
   "source": [
    "adj_node ={\n",
    "    \"A\":[\"B\",\"D\"],\n",
    "    \"B\":[\"A\",\"C\"],\n",
    "    \"C\":[\"B\"],\n",
    "    \"D\":[\"A\",\"E\",\"F\"],\n",
    "    \"E\":[\"D\",\"F\",\"G\"],\n",
    "    \"F\":[\"D\",\"E\",\"H\"],\n",
    "    \"G\":[\"E\",\"H\"],\n",
    "    \"H\":[\"F\",\"G\"]\n",
    "}"
   ]
  },
  {
   "cell_type": "code",
   "execution_count": 58,
   "id": "2f68918b",
   "metadata": {},
   "outputs": [],
   "source": [
    "from queue import Queue"
   ]
  },
  {
   "cell_type": "code",
   "execution_count": 59,
   "id": "02ce97ba",
   "metadata": {},
   "outputs": [],
   "source": [
    "visited ={}\n",
    "levels={}\n",
    "parent ={}\n",
    "bfs_travel_output=[]\n",
    "q=Queue()"
   ]
  },
  {
   "cell_type": "code",
   "execution_count": 60,
   "id": "59712c25",
   "metadata": {},
   "outputs": [
    {
     "name": "stdout",
     "output_type": "stream",
     "text": [
      "[]\n"
     ]
    }
   ],
   "source": [
    "print(list(q.queue))"
   ]
  },
  {
   "cell_type": "code",
   "execution_count": 61,
   "id": "6c96f42a",
   "metadata": {},
   "outputs": [],
   "source": [
    "for node in adj_node.keys():\n",
    "    visited[node]=False\n",
    "    levels[node]=-1\n",
    "    parent[node]=None\n",
    "    \n",
    "    "
   ]
  },
  {
   "cell_type": "code",
   "execution_count": 62,
   "id": "84411b72",
   "metadata": {
    "scrolled": true
   },
   "outputs": [
    {
     "data": {
      "text/plain": [
       "{'A': False,\n",
       " 'B': False,\n",
       " 'C': False,\n",
       " 'D': False,\n",
       " 'E': False,\n",
       " 'F': False,\n",
       " 'G': False,\n",
       " 'H': False}"
      ]
     },
     "execution_count": 62,
     "metadata": {},
     "output_type": "execute_result"
    }
   ],
   "source": [
    "visited"
   ]
  },
  {
   "cell_type": "code",
   "execution_count": 63,
   "id": "0527dc27",
   "metadata": {},
   "outputs": [],
   "source": [
    "## defining the source node"
   ]
  },
  {
   "cell_type": "code",
   "execution_count": 64,
   "id": "bddd7b90",
   "metadata": {},
   "outputs": [],
   "source": [
    "s=\"A\"\n",
    "q.put(s)\n",
    "visited[s]=True\n",
    "levels[s]=0\n",
    "parent[s]=None"
   ]
  },
  {
   "cell_type": "code",
   "execution_count": 65,
   "id": "08b96cb3",
   "metadata": {},
   "outputs": [
    {
     "name": "stdout",
     "output_type": "stream",
     "text": [
      "['A']\n"
     ]
    }
   ],
   "source": [
    "print(list(q.queue))"
   ]
  },
  {
   "cell_type": "code",
   "execution_count": 66,
   "id": "9064aaa5",
   "metadata": {},
   "outputs": [
    {
     "data": {
      "text/plain": [
       "{'A': True,\n",
       " 'B': False,\n",
       " 'C': False,\n",
       " 'D': False,\n",
       " 'E': False,\n",
       " 'F': False,\n",
       " 'G': False,\n",
       " 'H': False}"
      ]
     },
     "execution_count": 66,
     "metadata": {},
     "output_type": "execute_result"
    }
   ],
   "source": [
    "visited"
   ]
  },
  {
   "cell_type": "code",
   "execution_count": 28,
   "id": "92abfa54",
   "metadata": {},
   "outputs": [
    {
     "data": {
      "text/plain": [
       "{'A': 0, 'B': -1, 'C': -1, 'D': -1, 'E': -1, 'F': -1, 'G': -1, 'H': -1}"
      ]
     },
     "execution_count": 28,
     "metadata": {},
     "output_type": "execute_result"
    }
   ],
   "source": [
    "levels"
   ]
  },
  {
   "cell_type": "code",
   "execution_count": 29,
   "id": "120743c2",
   "metadata": {},
   "outputs": [],
   "source": [
    "adj_node ={\n",
    "    \"A\":[\"B\",\"D\"],\n",
    "    \"B\":[\"A\",\"C\"],\n",
    "    \"C\":[\"B\"],\n",
    "    \"D\":[\"A\",\"E\",\"F\"],\n",
    "    \"E\":[\"D\",\"F\",\"G\"],\n",
    "    \"F\":[\"D\",\"E\",\"H\"],\n",
    "    \"G\":[\"E\",\"H\"],\n",
    "    \"H\":[\"F\",\"G\"]\n",
    "}"
   ]
  },
  {
   "cell_type": "code",
   "execution_count": 33,
   "id": "36b2a2fd",
   "metadata": {},
   "outputs": [],
   "source": [
    "q"
   ]
  },
  {
   "cell_type": "code",
   "execution_count": 34,
   "id": "eaacebf9",
   "metadata": {},
   "outputs": [
    {
     "ename": "AttributeError",
     "evalue": "'NoneType' object has no attribute 'queue'",
     "output_type": "error",
     "traceback": [
      "\u001b[1;31m---------------------------------------------------------------------------\u001b[0m",
      "\u001b[1;31mAttributeError\u001b[0m                            Traceback (most recent call last)",
      "\u001b[1;32m~\\AppData\\Local\\Temp\\ipykernel_8824\\1950135517.py\u001b[0m in \u001b[0;36m<module>\u001b[1;34m\u001b[0m\n\u001b[1;32m----> 1\u001b[1;33m \u001b[0mprint\u001b[0m\u001b[1;33m(\u001b[0m\u001b[0mlist\u001b[0m\u001b[1;33m(\u001b[0m\u001b[0mq\u001b[0m\u001b[1;33m.\u001b[0m\u001b[0mqueue\u001b[0m\u001b[1;33m)\u001b[0m\u001b[1;33m)\u001b[0m\u001b[1;33m\u001b[0m\u001b[1;33m\u001b[0m\u001b[0m\n\u001b[0m",
      "\u001b[1;31mAttributeError\u001b[0m: 'NoneType' object has no attribute 'queue'"
     ]
    }
   ],
   "source": [
    "print(list(q.queue))"
   ]
  },
  {
   "cell_type": "code",
   "execution_count": 75,
   "id": "97766843",
   "metadata": {},
   "outputs": [
    {
     "data": {
      "text/plain": [
       "['A', 'B', 'D', 'C', 'E', 'F', 'G', 'H']"
      ]
     },
     "execution_count": 75,
     "metadata": {},
     "output_type": "execute_result"
    }
   ],
   "source": [
    "while not q.empty():\n",
    "    u=q.get() ## this gives the first element of the queue\n",
    "#     print(list(q.queue))\n",
    "    bfs_travel_output.append(u)\n",
    "    for v in adj_node[u]:\n",
    "        if not visited[v]:\n",
    "            visited[v]=True\n",
    "            parent[v]=u\n",
    "            levels[v]=levels[u]+1\n",
    "            q.put(v)\n",
    "bfs_travel_output"
   ]
  },
  {
   "cell_type": "code",
   "execution_count": 76,
   "id": "3f26baa4",
   "metadata": {},
   "outputs": [
    {
     "name": "stdout",
     "output_type": "stream",
     "text": [
      "3\n"
     ]
    }
   ],
   "source": [
    " print(levels[v])"
   ]
  },
  {
   "cell_type": "code",
   "execution_count": 55,
   "id": "99b42078",
   "metadata": {},
   "outputs": [
    {
     "data": {
      "text/plain": [
       "['A']"
      ]
     },
     "execution_count": 55,
     "metadata": {},
     "output_type": "execute_result"
    }
   ],
   "source": [
    "bfs_travel_output"
   ]
  },
  {
   "cell_type": "code",
   "execution_count": 74,
   "id": "2ad8de31",
   "metadata": {},
   "outputs": [
    {
     "name": "stdout",
     "output_type": "stream",
     "text": [
      "the full queue [1, 2, 3]\n",
      "Removed element: 1\n",
      "Removed element: 2\n",
      "Remaining elements: [3]\n",
      "Remaining elements: [3]\n"
     ]
    }
   ],
   "source": [
    "import queue\n",
    "\n",
    "# Create a queue\n",
    "my_queue = queue.Queue()\n",
    "\n",
    "# Add elements to the queue\n",
    "my_queue.put(1)\n",
    "my_queue.put(2)\n",
    "my_queue.put(3)\n",
    "print(\"the full queue\" ,list(my_queue.queue))\n",
    "\n",
    "# Remove and print elements from the queue\n",
    "print(\"Removed element:\", my_queue.get())  # Output: Removed element: 1\n",
    "print(\"Removed element:\", my_queue.get())  # Output: Removed element: 2\n",
    "\n",
    "# Print the remaining elements in the queue\n",
    "print(\"Remaining elements:\", list(my_queue.queue))  # Output: Remaining elements: [3]\n"
   ]
  },
  {
   "cell_type": "code",
   "execution_count": null,
   "id": "aeb4cad7",
   "metadata": {},
   "outputs": [],
   "source": []
  }
 ],
 "metadata": {
  "kernelspec": {
   "display_name": "Python 3 (ipykernel)",
   "language": "python",
   "name": "python3"
  },
  "language_info": {
   "codemirror_mode": {
    "name": "ipython",
    "version": 3
   },
   "file_extension": ".py",
   "mimetype": "text/x-python",
   "name": "python",
   "nbconvert_exporter": "python",
   "pygments_lexer": "ipython3",
   "version": "3.9.13"
  }
 },
 "nbformat": 4,
 "nbformat_minor": 5
}
## adding a commnnet 
