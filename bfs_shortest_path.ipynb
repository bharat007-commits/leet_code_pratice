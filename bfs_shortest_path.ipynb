{
 "cells": [
  {
   "cell_type": "code",
   "execution_count": 2,
   "metadata": {},
   "outputs": [],
   "source": [
    "def bfs(adj_nodes,source_node):\n",
    "    from queue import Queue\n",
    "    visited ={}\n",
    "    parent={}\n",
    "    levels={}\n",
    "    bfs_traverse_output=[]\n",
    "    q=Queue()\n",
    "\n",
    "    for node in adj_node.keys():\n",
    "        visited[node]=False\n",
    "        levels[node]=-1\n",
    "        parent[node]=None\n",
    "    ## setting the source node\n",
    "    source_node =\"A\"\n",
    "    visited[source_node]=True\n",
    "    levels[source_node]=0\n",
    "    parent[source_node]=None\n",
    "    q.put(source_node) \n",
    "\n",
    "    while not q.empty():\n",
    "        u=q.get() ## it will get the first element and remove it \n",
    "        bfs_traverse_output.append(u)\n",
    "        for v in adj_node[u]:\n",
    "            if not visited[v]:\n",
    "                visited[v]=True\n",
    "                parent[v]=u\n",
    "                levels[v]=levels[u]+1\n",
    "                q.put(v)\n",
    "    return(bfs_traverse_output)"
   ]
  },
  {
   "cell_type": "markdown",
   "metadata": {},
   "source": [
    "## Testing the bfs"
   ]
  },
  {
   "cell_type": "code",
   "execution_count": 3,
   "metadata": {},
   "outputs": [],
   "source": [
    "adj_node ={\n",
    "    \"A\":[\"B\",\"D\"],\n",
    "    \"B\":[\"A\",\"C\"],\n",
    "    \"C\":[\"B\"],\n",
    "    \"D\":[\"A\",\"E\",\"F\"],\n",
    "    \"E\":[\"D\",\"F\",\"G\"],\n",
    "    \"F\":[\"D\",\"E\",\"H\"],\n",
    "    \"G\":[\"E\",\"H\"],\n",
    "    \"H\":[\"F\",\"G\"]\n",
    "}\n",
    "source_node =\"A\"\n"
   ]
  },
  {
   "cell_type": "code",
   "execution_count": 4,
   "metadata": {},
   "outputs": [
    {
     "name": "stdout",
     "output_type": "stream",
     "text": [
      "['A', 'B', 'D', 'C', 'E', 'F', 'G', 'H']\n"
     ]
    }
   ],
   "source": [
    "print(bfs(adj_node,source_node))"
   ]
  },
  {
   "cell_type": "code",
   "execution_count": null,
   "metadata": {},
   "outputs": [],
   "source": []
  },
  {
   "cell_type": "code",
   "execution_count": null,
   "metadata": {},
   "outputs": [],
   "source": []
  }
 ],
 "metadata": {
  "kernelspec": {
   "display_name": "Python 3",
   "language": "python",
   "name": "python3"
  },
  "language_info": {
   "codemirror_mode": {
    "name": "ipython",
    "version": 3
   },
   "file_extension": ".py",
   "mimetype": "text/x-python",
   "name": "python",
   "nbconvert_exporter": "python",
   "pygments_lexer": "ipython3",
   "version": "3.10.11"
  }
 },
 "nbformat": 4,
 "nbformat_minor": 2
}
